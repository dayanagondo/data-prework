{
 "cells": [
  {
   "cell_type": "markdown",
   "metadata": {},
   "source": [
    "<img src=\"https://bit.ly/2VnXWr2\" width=\"100\" align=\"left\">"
   ]
  },
  {
   "cell_type": "markdown",
   "metadata": {},
   "source": [
    "# Rock, Paper & Scissors\n",
    "\n",
    "Let's play the famous game against our computer. You can check the rules [here](https://en.wikipedia.org/wiki/Rock%E2%80%93paper%E2%80%93scissors). \n",
    "\n",
    "## Task\n",
    "Create a program that imitates the playability of the well known game of rock, paper, scissors. Follow the guidelines provided.\n",
    "\n",
    "## Tools\n",
    "1. Loop: **for/while**\n",
    "2. Functions: **input(), print()...**\n",
    "3. Conditional statements: **if, elif, else**\n",
    "4. Definition of functions. Modular programming\n",
    "5. Import modules\n",
    "\n",
    "**To solve this challenge, the use of functions is recommended.**\n",
    "\n",
    "#### 1. Import the choice function of the random module."
   ]
  },
  {
   "cell_type": "code",
   "execution_count": 1,
   "metadata": {},
   "outputs": [],
   "source": [
    "import random"
   ]
  },
  {
   "cell_type": "markdown",
   "metadata": {},
   "source": [
    "#### 2. Create a list that includes the 3 possible gesture options of the game: 'rock', 'paper' or 'scissors'. Store the list in a variable called `gestures`."
   ]
  },
  {
   "cell_type": "code",
   "execution_count": 2,
   "metadata": {},
   "outputs": [],
   "source": [
    "gestures = [ 'rock', 'paper','scissors']"
   ]
  },
  {
   "cell_type": "markdown",
   "metadata": {},
   "source": [
    "#### 3. Create a variable called `n_rounds` to store the maximum number of rounds to play in a game. \n",
    "Remember that the number of rounds must be odd: 1, 3, 5, ..."
   ]
  },
  {
   "cell_type": "code",
   "execution_count": 3,
   "metadata": {},
   "outputs": [],
   "source": [
    "n_rounds = 3"
   ]
  },
  {
   "cell_type": "markdown",
   "metadata": {},
   "source": [
    "#### 4. Create a variable called `rounds_to_win` to store the number of rounds that a player must win to win the game.\n",
    "**Hint**: the value stored in `rounds_to_win` depends on the value of `n_rounds`. "
   ]
  },
  {
   "cell_type": "code",
   "execution_count": 4,
   "metadata": {},
   "outputs": [],
   "source": [
    "rounds_to_win = n_rounds -1"
   ]
  },
  {
   "cell_type": "markdown",
   "metadata": {},
   "source": [
    "#### 5. Create two variables to store the number of rounds that the computer and the player have won. Call these variables `cpu_score` and `player_score`."
   ]
  },
  {
   "cell_type": "code",
   "execution_count": 5,
   "metadata": {},
   "outputs": [],
   "source": [
    "cpu_score = 0\n",
    "player_score = 0 "
   ]
  },
  {
   "cell_type": "markdown",
   "metadata": {},
   "source": [
    "#### 6. Define a function that randomly returns one of the 3 gesture options.\n",
    "You will use this function to simulate the gesture choice of the computer. "
   ]
  },
  {
   "cell_type": "code",
   "execution_count": 6,
   "metadata": {},
   "outputs": [],
   "source": [
    "def gestures_computer():\n",
    "    \n",
    "    gestures = [ 'rock', 'paper','scissors']\n",
    "    gestures_computer = random.choice(gestures)\n",
    "    return gestures_computer"
   ]
  },
  {
   "cell_type": "code",
   "execution_count": 7,
   "metadata": {},
   "outputs": [
    {
     "data": {
      "text/plain": [
       "'rock'"
      ]
     },
     "execution_count": 7,
     "metadata": {},
     "output_type": "execute_result"
    }
   ],
   "source": [
    "var_gestures = gestures_computer()\n",
    "var_gestures"
   ]
  },
  {
   "cell_type": "markdown",
   "metadata": {},
   "source": [
    "#### 7. Define a function that asks the player which is the gesture he or she wants to show: 'rock', 'paper' or 'scissors'.\n",
    "The player should only be allowed to choose one of the 3 gesture options. If the player's choice is not rock, paper or scissors, keep asking until it is."
   ]
  },
  {
   "cell_type": "code",
   "execution_count": 8,
   "metadata": {},
   "outputs": [
    {
     "name": "stdout",
     "output_type": "stream",
     "text": [
      "Enter your move (rock, paper,scissors): \n",
      "Enter your move (rock, paper,scissors): paper\n"
     ]
    },
    {
     "data": {
      "text/plain": [
       "'paper'"
      ]
     },
     "execution_count": 8,
     "metadata": {},
     "output_type": "execute_result"
    }
   ],
   "source": [
    "def gestures_player():\n",
    "    player_gesture = \"\"\n",
    "    gestures = ['rock', 'paper','scissors']\n",
    "    while(player_gesture not in gestures):\n",
    "        player_gesture = input(\"Enter your move (rock, paper,scissors): \")\n",
    "    return player_gesture\n",
    "var_gesture_p = gestures_player()\n",
    "var_gesture_p"
   ]
  },
  {
   "cell_type": "markdown",
   "metadata": {},
   "source": [
    "#### 8. Define a function that checks who won a round. \n",
    "The function should return 0 if there is a tie, 1 if the computer wins and 2 if the player wins."
   ]
  },
  {
   "cell_type": "code",
   "execution_count": 9,
   "metadata": {},
   "outputs": [
    {
     "name": "stdout",
     "output_type": "stream",
     "text": [
      "Enter your move (rock, paper,scissors): paper\n",
      "Jogada do player:  paper\n",
      "Jogada do computer:  scissors\n"
     ]
    },
    {
     "data": {
      "text/plain": [
       "1"
      ]
     },
     "execution_count": 9,
     "metadata": {},
     "output_type": "execute_result"
    }
   ],
   "source": [
    "def who_won():\n",
    "    \n",
    "    player = gestures_player()\n",
    "    computer = gestures_computer()\n",
    "    \n",
    "    print(\"Jogada do player: \", player)\n",
    "    print(\"Jogada do computer: \", computer)\n",
    "    \n",
    "    if (player==gestures_computer):\n",
    "        return 0\n",
    "    elif (player=='rock') &  (computer=='paper'):\n",
    "        return 1\n",
    "    elif (player=='rock') &  (computer=='scissors'):\n",
    "        return 2\n",
    "    elif (player=='paper') &  (computer=='rock'):\n",
    "        return 2\n",
    "    elif (player=='paper') &  (computer=='scissors'):\n",
    "        return 1\n",
    "    elif (player=='scissors') &  (computer=='rock'):\n",
    "        return 1\n",
    "    elif (player=='scissors') &  (computer=='paper'):\n",
    "        return 2\n",
    "\n",
    "var_winner= who_won()\n",
    "var_winner    "
   ]
  },
  {
   "cell_type": "markdown",
   "metadata": {},
   "source": [
    "#### 9. Define a function that prints the choice of the computer, the choice of the player and a message that announces who won the current round. \n",
    "You should also use this function to update the variables that count the number of rounds that the computer and the player have won. The score of the winner increases by one point. If there is a tie, the score does not increase."
   ]
  },
  {
   "cell_type": "code",
   "execution_count": 10,
   "metadata": {},
   "outputs": [
    {
     "name": "stdout",
     "output_type": "stream",
     "text": [
      "Enter your move (rock, paper,scissors): paper\n",
      "Jogada do player:  paper\n",
      "Jogada do computer:  paper\n",
      "Empatou\n"
     ]
    },
    {
     "data": {
      "text/plain": [
       "(0, 0)"
      ]
     },
     "execution_count": 10,
     "metadata": {},
     "output_type": "execute_result"
    }
   ],
   "source": [
    "def jogadas():\n",
    "    computador = 0\n",
    "    player = 0\n",
    "    ganhador = who_won()\n",
    "    \n",
    "    if ganhador == 1:\n",
    "        computador = 1\n",
    "        print(\"Ganhador da rodada é o computador\")\n",
    "    elif ganhador == 2:\n",
    "        player = 1\n",
    "        print(\"Ganhador da rodada é o jogador\")\n",
    "    else:\n",
    "        print(\"Empatou\")\n",
    "    return (computador,player)\n",
    "\n",
    "var_jogadas= jogadas()\n",
    "var_jogadas       "
   ]
  },
  {
   "cell_type": "markdown",
   "metadata": {},
   "source": [
    "#### 10. Now it's time to code the execution of the game using the functions and variables you defined above. \n",
    "\n",
    "First, create a loop structure that repeats while no player reaches the minimum score necessary to win and the number of rounds is less than the maximum number of rounds to play in a game.  \n",
    "\n",
    "Inside the loop, use the functions and variables above to create the execution of a round: ask for the player's choice, generate the random choice of the computer, show the round results, update the scores, etc. \n"
   ]
  },
  {
   "cell_type": "code",
   "execution_count": 19,
   "metadata": {},
   "outputs": [
    {
     "name": "stdout",
     "output_type": "stream",
     "text": [
      "Play\n",
      "Enter your move (rock, paper,scissors): scissors\n",
      "Jogada do player:  scissors\n",
      "Jogada do computer:  paper\n",
      "Ganhador da rodada é o jogador\n",
      "Play\n",
      "Enter your move (rock, paper,scissors): rock\n",
      "Jogada do player:  rock\n",
      "Jogada do computer:  scissors\n",
      "Ganhador da rodada é o jogador\n",
      "PLAYER IS THE WINNER!!\n"
     ]
    }
   ],
   "source": [
    "def todas_jogadas():\n",
    "    computador_pontuation = 0\n",
    "    player_pontuation = 0\n",
    "    rounds = 0\n",
    "    max_plays = 3\n",
    "    min_pontuation = (max_plays/2) + 0.5\n",
    "    \n",
    "    while (rounds < max_plays) and (min_pontuation>computador_pontuation) and (min_pontuation>player_pontuation):\n",
    "        rounds += 1\n",
    "        print(\"Play\")\n",
    "        computador,player = jogadas()\n",
    "        if player == 1:\n",
    "            player_pontuation += 1\n",
    "        elif computador == 1:\n",
    "            computador_pontuation += 1\n",
    "        \n",
    "    if player_pontuation > computador_pontuation:\n",
    "        print(\"PLAYER IS THE WINNER!!\")\n",
    "    elif computador_pontuation > player_pontuation:\n",
    "        print(\"COMPUTER IS THE WINNER!!\")\n",
    "    else:\n",
    "        print(\"There isn't a winner, it's a tie!\")\n",
    "    \n",
    "var_todas_jogadas = todas_jogadas()\n",
    "var_todas_jogadas"
   ]
  },
  {
   "cell_type": "markdown",
   "metadata": {},
   "source": [
    "#### 11. Print the winner of the game based on who won more rounds.\n",
    "Remember that the game might be tied. "
   ]
  },
  {
   "cell_type": "code",
   "execution_count": 22,
   "metadata": {},
   "outputs": [
    {
     "name": "stdout",
     "output_type": "stream",
     "text": [
      "There isn't a winner, it's a tie!\n"
     ]
    }
   ],
   "source": [
    "computador_pontuation = 0\n",
    "player_pontuation = 0    \n",
    "\n",
    "if player_pontuation > computador_pontuation:\n",
    "    print(\"PLAYER IS THE WINNER!!\")\n",
    "elif computador_pontuation > player_pontuation:\n",
    "    print(\"COMPUTER IS THE WINNER!!\")\n",
    "else:\n",
    "    print(\"There isn't a winner, it's a tie!\")"
   ]
  },
  {
   "cell_type": "markdown",
   "metadata": {},
   "source": [
    "# Bonus: Rock, Paper, Scissors, Lizard & Spock\n",
    "![](images/rpsls.jpg)\n",
    "\n",
    "In this challenge, you need to improve the previous game by adding two new options. To know more about the rules of the improved version of rock, paper, scissors, check this [link](http://www.samkass.com/theories/RPSSL.html). \n",
    "\n",
    "In addition, you will also need to improve how the game interacts with the player: the number of rounds to play, which must be an odd number, will be requested to the user until a valid number is entered. Define a new function to make that request.\n",
    "\n",
    "**Hint**: Try to reuse the code that you already coded in the previous challenge. If your code is efficient, this bonus will only consist of simple modifications to the original game."
   ]
  },
  {
   "cell_type": "code",
   "execution_count": 32,
   "metadata": {},
   "outputs": [
    {
     "name": "stdout",
     "output_type": "stream",
     "text": [
      "Enter how many plays do you wanna play, remember the number must be odd: 5\n"
     ]
    },
    {
     "data": {
      "text/plain": [
       "5"
      ]
     },
     "execution_count": 32,
     "metadata": {},
     "output_type": "execute_result"
    }
   ],
   "source": [
    "def num_jogadas():\n",
    "    numero_jogadas = 0\n",
    "    numero_jogadas = input(\"Enter how many plays do you wanna play, remember the number must be odd: \")\n",
    "    \n",
    "    while (int(numero_jogadas) % 2 == 0):\n",
    "        numero_jogadas = input(\"Enter how many plays do you wanna play, remember the number must be odd: \")\n",
    "    return (int(numero_jogadas))\n",
    "\n",
    "var_num_jogadas = num_jogadas()\n",
    "var_num_jogadas\n",
    "        "
   ]
  },
  {
   "cell_type": "code",
   "execution_count": 33,
   "metadata": {},
   "outputs": [
    {
     "data": {
      "text/plain": [
       "'paper'"
      ]
     },
     "execution_count": 33,
     "metadata": {},
     "output_type": "execute_result"
    }
   ],
   "source": [
    "def gestures_computer():\n",
    "    \n",
    "    gestures = [ 'rock', 'paper','scissors', 'spock', 'lizard']\n",
    "    gestures_computer = random.choice(gestures)\n",
    "    return gestures_computer\n",
    "var_gestures = gestures_computer()\n",
    "var_gestures"
   ]
  },
  {
   "cell_type": "code",
   "execution_count": 34,
   "metadata": {},
   "outputs": [
    {
     "name": "stdout",
     "output_type": "stream",
     "text": [
      "Enter your move (rock, paper,scissors, spock, lizard): lizard\n"
     ]
    },
    {
     "data": {
      "text/plain": [
       "'lizard'"
      ]
     },
     "execution_count": 34,
     "metadata": {},
     "output_type": "execute_result"
    }
   ],
   "source": [
    "def gestures_player():\n",
    "    player_gesture = \"\"\n",
    "    gestures = ['rock', 'paper','scissors', 'spock', 'lizard']\n",
    "    while(player_gesture not in gestures):\n",
    "        player_gesture = input(\"Enter your move (rock, paper,scissors, spock, lizard): \")\n",
    "    return player_gesture\n",
    "var_gesture_p = gestures_player()\n",
    "var_gesture_p"
   ]
  },
  {
   "cell_type": "code",
   "execution_count": 35,
   "metadata": {},
   "outputs": [
    {
     "name": "stdout",
     "output_type": "stream",
     "text": [
      "Enter your move (rock, paper,scissors, spock, lizard): lizard\n",
      "Jogada do player:  lizard\n",
      "Jogada do computer:  rock\n"
     ]
    },
    {
     "data": {
      "text/plain": [
       "1"
      ]
     },
     "execution_count": 35,
     "metadata": {},
     "output_type": "execute_result"
    }
   ],
   "source": [
    "def who_won():\n",
    "    \n",
    "    player = gestures_player()\n",
    "    computer = gestures_computer()\n",
    "    \n",
    "    print(\"Jogada do player: \", player)\n",
    "    print(\"Jogada do computer: \", computer)\n",
    "    \n",
    "    if (player==gestures_computer):\n",
    "        return 0\n",
    "    elif (player=='rock') &  (computer=='paper'):\n",
    "        return 1\n",
    "    elif (player=='rock') &  (computer=='scissors'):\n",
    "        return 2\n",
    "    elif (player=='paper') &  (computer=='rock'):\n",
    "        return 2\n",
    "    elif (player=='paper') &  (computer=='scissors'):\n",
    "        return 1\n",
    "    elif (player=='scissors') &  (computer=='rock'):\n",
    "        return 1\n",
    "    elif (player=='scissors') &  (computer=='paper'):\n",
    "        return 2\n",
    "    elif (player=='spock') & (computer=='paper'):\n",
    "        return 1\n",
    "    elif (player=='spock') & (computer=='rock'):\n",
    "        return 2\n",
    "    elif (player=='spock') & (computer=='lizard'):\n",
    "        return 1\n",
    "    elif (player=='spock') & (computer=='scissors'):\n",
    "        return 2\n",
    "    elif (player=='lizard') & (computer=='paper'):\n",
    "        return 2\n",
    "    elif (player=='lizard') & (computer=='rock'):\n",
    "        return 1\n",
    "    elif (player=='lizard') & (computer=='spock'):\n",
    "        return 2\n",
    "    elif (player=='lizard') & (computer=='scissors'):\n",
    "        return 1\n",
    "    \n",
    "\n",
    "var_winner= who_won()\n",
    "var_winner    "
   ]
  },
  {
   "cell_type": "code",
   "execution_count": 36,
   "metadata": {},
   "outputs": [
    {
     "name": "stdout",
     "output_type": "stream",
     "text": [
      "Enter your move (rock, paper,scissors, spock, lizard): paper\n",
      "Jogada do player:  paper\n",
      "Jogada do computer:  lizard\n",
      "Empatou\n"
     ]
    },
    {
     "data": {
      "text/plain": [
       "(0, 0)"
      ]
     },
     "execution_count": 36,
     "metadata": {},
     "output_type": "execute_result"
    }
   ],
   "source": [
    "def jogadas():\n",
    "    computador = 0\n",
    "    player = 0\n",
    "    ganhador = who_won()\n",
    "    \n",
    "    if ganhador == 1:\n",
    "        computador = 1\n",
    "        print(\"Ganhador da rodada é o computador\")\n",
    "    elif ganhador == 2:\n",
    "        player = 1\n",
    "        print(\"Ganhador da rodada é o jogador\")\n",
    "    else:\n",
    "        print(\"Empatou\")\n",
    "    return (computador,player)\n",
    "\n",
    "var_jogadas= jogadas()\n",
    "var_jogadas  "
   ]
  },
  {
   "cell_type": "code",
   "execution_count": 38,
   "metadata": {},
   "outputs": [
    {
     "name": "stdout",
     "output_type": "stream",
     "text": [
      "Enter how many plays do you wanna play, remember the number must be odd: 3\n",
      "Play\n",
      "Enter your move (rock, paper,scissors, spock, lizard): paper\n",
      "Jogada do player:  paper\n",
      "Jogada do computer:  lizard\n",
      "Empatou\n",
      "Play\n",
      "Enter your move (rock, paper,scissors, spock, lizard): lizard\n",
      "Jogada do player:  lizard\n",
      "Jogada do computer:  spock\n",
      "Ganhador da rodada é o jogador\n",
      "Play\n",
      "Enter your move (rock, paper,scissors, spock, lizard): paper\n",
      "Jogada do player:  paper\n",
      "Jogada do computer:  spock\n",
      "Empatou\n",
      "PLAYER IS THE WINNER!!\n"
     ]
    }
   ],
   "source": [
    "def todas_jogadas():\n",
    "    computador_pontuation = 0\n",
    "    player_pontuation = 0\n",
    "    rounds = 0\n",
    "    max_plays = num_jogadas()\n",
    "    min_pontuation = (max_plays/2) + 0.5\n",
    "    \n",
    "    while (rounds < max_plays) and (min_pontuation>computador_pontuation) and (min_pontuation>player_pontuation):\n",
    "        rounds += 1\n",
    "        print(\"Play\")\n",
    "        computador,player = jogadas()\n",
    "        if player == 1:\n",
    "            player_pontuation += 1\n",
    "        elif computador == 1:\n",
    "            computador_pontuation += 1\n",
    "        \n",
    "    if player_pontuation > computador_pontuation:\n",
    "        print(\"PLAYER IS THE WINNER!!\")\n",
    "    elif computador_pontuation > player_pontuation:\n",
    "        print(\"COMPUTER IS THE WINNER!!\")\n",
    "    else:\n",
    "        print(\"There isn't a winner, it's a tie!\")\n",
    "    \n",
    "var_todas_jogadas = todas_jogadas()\n",
    "var_todas_jogadas"
   ]
  },
  {
   "cell_type": "code",
   "execution_count": null,
   "metadata": {},
   "outputs": [],
   "source": []
  }
 ],
 "metadata": {
  "kernelspec": {
   "display_name": "Python 3",
   "language": "python",
   "name": "python3"
  },
  "language_info": {
   "codemirror_mode": {
    "name": "ipython",
    "version": 3
   },
   "file_extension": ".py",
   "mimetype": "text/x-python",
   "name": "python",
   "nbconvert_exporter": "python",
   "pygments_lexer": "ipython3",
   "version": "3.7.6"
  }
 },
 "nbformat": 4,
 "nbformat_minor": 2
}
